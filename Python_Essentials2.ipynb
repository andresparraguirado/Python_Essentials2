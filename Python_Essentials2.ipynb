{
 "cells": [
  {
   "cell_type": "code",
   "execution_count": 2,
   "metadata": {},
   "outputs": [
    {
     "name": "stdout",
     "output_type": "stream",
     "text": [
      "['To', 'be', 'or', 'not', 'to', 'be,', 'that', 'is', 'the', 'question']\n"
     ]
    }
   ],
   "source": [
    "# Dividir texto sin usar la función split\n",
    "\n",
    "def mysplit(string):\n",
    "    new = []\n",
    "    while string.find(' ') != -1:\n",
    "        new.append(string[0:string.find(' ')])\n",
    "        string = string[string.find(' ')+1:]\n",
    "    new.append(string)\n",
    "    return new\n",
    "print(mysplit(\"To be or not to be, that is the question\"))"
   ]
  },
  {
   "cell_type": "code",
   "execution_count": 115,
   "metadata": {},
   "outputs": [
    {
     "name": "stdout",
     "output_type": "stream",
     "text": [
      "  # ### ### # # ### ### ### ### ### \n",
      "  #   #   # # # #   #     # # # # # \n",
      "  # ### ### ### ### ###   # ### # # \n",
      "  # #     #   #   # # #   # # # # # \n",
      "  # ### ###   # ### ###   # ### ### \n"
     ]
    }
   ],
   "source": [
    "# Your task is to write a program which is able to simulate the work of a seven-display device, although you're going to use single LEDs instead of segments.\n",
    "def digits(x, d):\n",
    "    if x == 1:\n",
    "        digito_L1 = d\n",
    "        if digito_L1 == '1':\n",
    "            return '  #'\n",
    "        elif digito_L1 == '2' or digito_L1 == '3' or digito_L1 == '5' or digito_L1 == '6' or digito_L1 == '7' or digito_L1 == '8' or digito_L1 == '9' or digito_L1 == '0':\n",
    "            return '###'\n",
    "        elif digito_L1 == '4':\n",
    "            return '# #'\n",
    "       \n",
    "\n",
    "    if x == 2:\n",
    "        digito_L2 = d\n",
    "        if digito_L2 == '1' or digito_L2 == '2' or digito_L2 == '3' or digito_L2 == '7':\n",
    "            return '  #'\n",
    "        elif digito_L2 == '4' or digito_L2 == '8' or digito_L2 == '9' or digito_L2 == '0':\n",
    "            return '# #'\n",
    "        elif digito_L2 == '5' or digito_L2 == '6':\n",
    "            return '#  '\n",
    "\n",
    "    if x == 3:\n",
    "        digito_L3 = d\n",
    "        if digito_L3 == '1' or digito_L3 == '7':\n",
    "            return '  #'\n",
    "        elif digito_L3 == '2' or digito_L3 == '3' or digito_L3 == '5' or digito_L3 == '6'  or digito_L3 == '8' or digito_L3 == '9' or digito_L3 == '4':\n",
    "            return '###'\n",
    "        elif digito_L3 == '0':\n",
    "            return '# #'\n",
    "\n",
    "    if x == 4:\n",
    "        digito_L4 = d\n",
    "        if digito_L4 == '1' or digito_L4 == '3' or digito_L4 == '4' or digito_L4 == '5' or digito_L4 == '7' or digito_L4 == '9':\n",
    "            return '  #'\n",
    "        elif digito_L4 == '2':\n",
    "            return '#  '\n",
    "        elif digito_L4 == '6' or digito_L4 == '8' or digito_L4 == '0':\n",
    "            return '# #'\n",
    "\n",
    "    if x == 5:\n",
    "        digito_L5 = d\n",
    "        if digito_L5 == '1' or digito_L5 == '7':\n",
    "            return '  #'\n",
    "        elif digito_L5 == '2' or digito_L5 == '3' or digito_L5 == '5' or digito_L5 == '6'  or digito_L5 == '8' or digito_L5 == '9' or digito_L5 == '0':\n",
    "            return '###'\n",
    "        elif digito_L5 == '4':\n",
    "            return '  #'\n",
    "\n",
    "digito = 123456780\n",
    "lista = []\n",
    "[lista.append(str(digito)[i]) for i in range(0, len(str(digito)))]\n",
    "for i in lista:\n",
    "    print(digits(1, i), end = \" \")\n",
    "    if i == lista[8]:\n",
    "        print()\n",
    "for i in lista:\n",
    "    print(digits(2, i), end = \" \")\n",
    "    if i == lista[8]:\n",
    "        print()\n",
    "for i in lista:\n",
    "    print(digits(3, i), end = \" \")\n",
    "    if i == lista[8]:\n",
    "        print()\n",
    "for i in lista:\n",
    "    print(digits(4, i), end = \" \")\n",
    "    if i == lista[8]:\n",
    "        print()\n",
    "for i in lista:\n",
    "    print(digits(5, i), end = \" \")\n",
    "    if i == lista[8]:\n",
    "        print()"
   ]
  },
  {
   "cell_type": "code",
   "execution_count": null,
   "metadata": {},
   "outputs": [],
   "source": [
    "#This is the seven segments display codification\n",
    "#Each number is formed by 7 segments\n",
    "#1 means turn on the LED of the segment, 0 means ramain dark\n",
    "#https://sites.google.com/site/tanglindigitalelectronics/basic-digital-circuits/bcd-to-seven-segment-display\n",
    "\n",
    "def preDisplay(lines,ledSegments):\n",
    "\tfor l in range(5):\n",
    "\t\tlines[l] += \"\".join(ledSegments[l]) + \" \"\n",
    "\n",
    "\n",
    "def ledDisplay(lines):\n",
    "\tfor line in lines:\n",
    "\t\tprint(line)\n",
    "\n",
    "leds=[\"1111110\",          #This represents 0\n",
    "\t\t\"0110000\",\t\t  #This represents 1\n",
    "\t\t\"1101101\",\t\t  #This represents 2\n",
    "\t\t\"1111001\",\t\t  #Same logic...\n",
    "\t\t\"0110011\",\n",
    "\t\t\"1011011\",\n",
    "\t\t\"1011111\",\n",
    "\t\t\"1110000\",\n",
    "\t\t\"1111111\",\n",
    "\t\t\"1111011\"\n",
    "]\n",
    "\n",
    "\n",
    "\n",
    "def numToLed(digits):\n",
    "\tlines = [ '' for l in range(5) ]\n",
    "\tfor num in digits:\n",
    "\t\tparttern = leds[int(num)]\n",
    "\t\t#Each segment has 3 \"leds\"\n",
    "\t\tsegment = [[\" \",\" \",\" \"] for s in range (5)]\n",
    "\t\t#depending each digit of the parttern, turning each led of the segment ON (assigning the # to the segment.)\n",
    "\t\tif parttern[0] == \"1\":\n",
    "\t\t\tsegment[0][0] = segment[0][1] = segment[0][2] = \"#\"\n",
    "\n",
    "\t\tif parttern[1] == \"1\":\n",
    "\t\t\tsegment[0][2] = segment[1][2] = segment[2][2] = \"#\"\n",
    "\n",
    "\t\tif parttern[2] == \"1\":\n",
    "\t\t\tsegment[2][2] = segment[3][2] = segment[4][2] = \"#\"\n",
    "\n",
    "\t\tif parttern[3] == \"1\":\n",
    "\t\t\tsegment[4][0] = segment[4][1] = segment[4][2] = \"#\"\n",
    "\n",
    "\t\tif parttern[4] == \"1\":\n",
    "\t\t\tsegment[2][0] = segment[3][0] = segment[4][0] = \"#\"\n",
    "\n",
    "\t\tif parttern[5] == \"1\":\n",
    "\t\t\tsegment[0][0] = segment[1][0] = segment[2][0] = \"#\"\n",
    "\n",
    "\t\tif parttern[6] == \"1\":\n",
    "\t\t\tsegment[2][0] = segment[2][1] = segment[2][2] = \"#\"\n",
    "\n",
    "\t\t#putting segments of each digit to a list called lines\n",
    "\t\t#lines is a 5 element list, which each element represents the row should be printed out on the console\n",
    "\t\tpreDisplay(lines,segment)\n",
    "\telse:\n",
    "\t\tledDisplay(lines)\n",
    "\n",
    "while True:\n",
    "\n",
    "\ttry:\n",
    "\t\tinputNum = input(\"Please enter non-negative numbers:\")\n",
    "\t\tassert inputNum.isdigit()\n",
    "\t\tnumToLed(inputNum)\n",
    "\texcept AssertionError:\n",
    "\t\tprint(\"You have entered an invalid input, please enter only non-negative numbers!\")"
   ]
  },
  {
   "cell_type": "code",
   "execution_count": 14,
   "metadata": {},
   "outputs": [
    {
     "name": "stdin",
     "output_type": "stream",
     "text": [
      "Introduce un texto a encriptar: The die is cast\n",
      "Introduce un desplazamiento para la encriptación: 25\n"
     ]
    },
    {
     "name": "stdout",
     "output_type": "stream",
     "text": [
      "Sgd chd hr bzrs\n"
     ]
    }
   ],
   "source": [
    "# The original Caesar cipher shifts each character by one: a becomes b, z becomes a, and so on. Let's make it a bit harder, and allow the shifted value to come from the range 1..25 inclusive.\n",
    "# Moreover, let the code preserve the letters' case (lower-case letters will remain lower-case) and all non-alphabetical characters should remain untouched.\n",
    "\n",
    "texto = input('Introduce un texto a encriptar:')\n",
    "n = int(input('Introduce un desplazamiento para la encriptación:'))\n",
    "\n",
    "while n <= 0 or n > 25:\n",
    "    n = int(input('Introduce un desplazamiento para la encriptación:'))\n",
    "    \n",
    "cipher = ''\n",
    "for char in texto:\n",
    "    if not char.isalpha(): # si es no alfabético no se modifica\n",
    "        cipher += char\n",
    "    else:\n",
    "        if char.isupper() and (ord(char) + n) <= ord('Z'):\n",
    "            cipher += chr(ord(char)+n).upper()\n",
    "            \n",
    "        elif char.isupper() and (ord(char) + n) > ord('Z'):\n",
    "            cipher += chr(ord(char) + 6 +n).upper()\n",
    "                \n",
    "        elif char.islower() and (ord(char) + n) <= ord('z'):\n",
    "            cipher += chr(ord(char)+n)\n",
    "            \n",
    "        elif char.islower() and (ord(char) + n) > ord('z'):\n",
    "            cipher += chr(((ord(char) + n) % 122) + 96)\n",
    "\n",
    "print(cipher)"
   ]
  },
  {
   "cell_type": "code",
   "execution_count": 22,
   "metadata": {},
   "outputs": [
    {
     "name": "stdin",
     "output_type": "stream",
     "text": [
      "Introduce un texto a encriptar: hola\n"
     ]
    }
   ],
   "source": [
    "# is palindrome?\n",
    "\n",
    "texto = input('Introduce un texto :')\n",
    "\n",
    "while texto.isalpha() != True:\n",
    "    texto = input('Introduce un texto :')"
   ]
  },
  {
   "cell_type": "code",
   "execution_count": 38,
   "metadata": {},
   "outputs": [
    {
     "name": "stdin",
     "output_type": "stream",
     "text": [
      "Introduce un número: 16071978\n"
     ]
    },
    {
     "data": {
      "text/plain": [
       "'3'"
      ]
     },
     "execution_count": 38,
     "metadata": {},
     "output_type": "execute_result"
    }
   ],
   "source": [
    "#Sumar los numeros de tu fecha de nacimiento\n",
    "\n",
    "fecha = input('Introduce un número:')\n",
    "while len(str(sum([int(x) for x in fecha]))) > 1:\n",
    "    fecha = str(sum([int(x) for x in fecha]))\n",
    "str(sum([int(x) for x in fecha]))"
   ]
  },
  {
   "cell_type": "code",
   "execution_count": 55,
   "metadata": {},
   "outputs": [
    {
     "name": "stdin",
     "output_type": "stream",
     "text": [
      "Introduce una palabra : donor\n",
      "Introduce un texto : Nabucodonosor\n"
     ]
    },
    {
     "name": "stdout",
     "output_type": "stream",
     "text": [
      "Yes\n"
     ]
    }
   ],
   "source": [
    "#Your task is to write a program which answers the following question: are the characters comprising the first string hidden inside the second string?\n",
    "\n",
    "palabra = input('Introduce una palabra :')\n",
    "texto = input('Introduce un texto :')\n",
    "lista = []\n",
    "lista2 = []\n",
    "i = 0\n",
    "j = 0\n",
    "for letra in palabra:\n",
    "    lista.append(texto.find(letra, i))\n",
    "    i = lista[j]\n",
    "    j += 1\n",
    "if -1 in lista:\n",
    "    print('No')\n",
    "else:\n",
    "    print('Yes')"
   ]
  },
  {
   "cell_type": "code",
   "execution_count": 156,
   "metadata": {},
   "outputs": [
    {
     "name": "stdin",
     "output_type": "stream",
     "text": [
      "Introduce un set de digitos : 295743861 431865927 876192543 387459216 612387495 549216738 763524189 928671354 154938672\n"
     ]
    },
    {
     "name": "stdout",
     "output_type": "stream",
     "text": [
      "Yes\n"
     ]
    },
    {
     "data": {
      "text/plain": [
       "[[2, 9, 5, 7, 4, 3, 8, 6, 1],\n",
       " [4, 3, 1, 8, 6, 5, 9, 2, 7],\n",
       " [8, 7, 6, 1, 9, 2, 5, 4, 3],\n",
       " [3, 8, 7, 4, 5, 9, 2, 1, 6],\n",
       " [6, 1, 2, 3, 8, 7, 4, 9, 5],\n",
       " [5, 4, 9, 2, 1, 6, 7, 3, 8],\n",
       " [7, 6, 3, 5, 2, 4, 1, 8, 9],\n",
       " [9, 2, 8, 6, 7, 1, 3, 5, 4],\n",
       " [1, 5, 4, 9, 3, 8, 6, 7, 2]]"
      ]
     },
     "execution_count": 156,
     "metadata": {},
     "output_type": "execute_result"
    }
   ],
   "source": [
    "# reads 9 rows of the Sudoku, each containing 9 digits (check carefully if the data entered are valid)\n",
    "# outputs Yes if the Sudoku is valid, and No otherwise.\n",
    "# ejemplos inputs:\n",
    "# Contine sudoku: 295743861 431865927 876192543 387459216 612387495 549216738 763524189 928671354 154938672\n",
    "# No contiene sudoku: 195743862 431865927 876192543 387459216 612387495 549216738 763524189 928671354 254938671\n",
    "\n",
    "entrada = input('Introduce un set de digitos :') \n",
    "i = 0\n",
    "j = 0\n",
    "sudoku = [[0 for j in range(9)] for i in range(9)]\n",
    "lista = []\n",
    "for digito in entrada:\n",
    "    if digito.isalnum():\n",
    "        lista.append(digito)\n",
    "# con i//9 se cambia de  fila y con if > 8 se pone j a 0 para cada nueva fila\n",
    "for digito in lista:\n",
    "    if j > 8:\n",
    "        j = 0\n",
    "    sudoku[i//9][j] = int(digito)\n",
    "    j += 1\n",
    "    i += 1\n",
    "    \n",
    "# se cogen cada uno de los nueve cuadrantes\n",
    "\n",
    "uno = [sudoku[i][j] for j in range(3) for i in range(3)]\n",
    "dos = [sudoku[i][j] for j in range(3, 6) for i in range(3)]\n",
    "tres = [sudoku[i][j] for j in range(6, 9) for i in range(3)]\n",
    "cuatro = [sudoku[i][j] for j in range(3) for i in range(3, 6)]\n",
    "cinco = [sudoku[i][j] for j in range(3, 6) for i in range(3, 6)]\n",
    "seis = [sudoku[i][j] for j in range(6, 9) for i in range(3, 6)]\n",
    "siete = [sudoku[i][j] for j in range(3) for i in range(6, 9)]\n",
    "ocho = [sudoku[i][j] for j in range(3, 6) for i in range(6, 9)]\n",
    "nueve = [sudoku[i][j] for j in range(6, 9) for i in range(6, 9)]\n",
    "cuadrantes = [uno, dos, tres, cuatro, cinco, seis, siete, ocho, nueve]\n",
    "\n",
    "def check(cuadrante):\n",
    "    for i in list(range(1, 10)):\n",
    "        if i in cuadrante:\n",
    "            if i == 9:\n",
    "                return True\n",
    "            continue\n",
    "        else:\n",
    "            return False\n",
    "        \n",
    "resultado = [check(cuadrante) for cuadrante in cuadrantes]\n",
    "print('No') if False in resultado else print('Yes')\n",
    "sudoku"
   ]
  },
  {
   "cell_type": "code",
   "execution_count": 27,
   "metadata": {},
   "outputs": [
    {
     "name": "stdin",
     "output_type": "stream",
     "text": [
      "Enter a number from -10 to 10:  s\n"
     ]
    },
    {
     "name": "stdout",
     "output_type": "stream",
     "text": [
      "Error: wrong input\n"
     ]
    },
    {
     "name": "stdin",
     "output_type": "stream",
     "text": [
      "Enter a number from -10 to 10:  d\n"
     ]
    },
    {
     "name": "stdout",
     "output_type": "stream",
     "text": [
      "Error: wrong input\n"
     ]
    },
    {
     "name": "stdin",
     "output_type": "stream",
     "text": [
      "Enter a number from -10 to 10:  1\n"
     ]
    },
    {
     "name": "stdout",
     "output_type": "stream",
     "text": [
      "The number is: 1\n"
     ]
    }
   ],
   "source": [
    "# Your task is to write a function able to input integer values and to check if they are within a specified range\n",
    "def read_int(prompt, min, max):\n",
    "    \n",
    "    i = 1\n",
    "    while i == 1:\n",
    "        try:\n",
    "            i = 0\n",
    "            x = int(input(prompt))\n",
    "            assert x > -10 and x < 10\n",
    "\n",
    "        except ValueError:\n",
    "            i = 1\n",
    "            print(\"Error: wrong input\")\n",
    "\n",
    "        except AssertionError:\n",
    "            i = 1\n",
    "            print(\"Error: the value is not within permitted range (min..max)\")\n",
    "\n",
    "    return x\n",
    "\n",
    "\n",
    "v = read_int(\"Enter a number from -10 to 10: \", -10, 10)\n",
    "\n",
    "print(\"The number is:\", v)"
   ]
  },
  {
   "cell_type": "code",
   "execution_count": 4,
   "metadata": {},
   "outputs": [
    {
     "name": "stdout",
     "output_type": "stream",
     "text": [
      "100\n"
     ]
    }
   ],
   "source": [
    "# Your task is to extend the Stack class behavior in such a way so that the class is able to count all the elements that are pushed and popped (we assume that counting pops is enough). Use the Stack class we've provided in the editor.\n",
    "\n",
    "# Follow the hints:\n",
    "\n",
    "# introduce a property designed to count pop operations and name it in a way which guarantees hiding it;\n",
    "# initialize it to zero inside the constructor;\n",
    "# provide a method which returns the value currently assigned to the counter (name it get_counter()).\n",
    "# Complete the code in the editor. Run it to check whether your code outputs 100.\n",
    "\n",
    "class Stack:\n",
    "    def __init__(self):\n",
    "        self.__stk = []\n",
    "\n",
    "    def push(self, val):\n",
    "        self.__stk.append(val)\n",
    "\n",
    "    def pop(self):\n",
    "        val = self.__stk[-1]\n",
    "        del self.__stk[-1]\n",
    "        return val\n",
    "\n",
    "class CountingStack(Stack):\n",
    "    def __init__(self):\n",
    "        Stack.__init__(self)\n",
    "        self.__count = 0\n",
    "\n",
    "    def get_counter(self):\n",
    "        return self.__count\n",
    "\n",
    "    def pop(self):\n",
    "        val = Stack.pop(self)\n",
    "        if val == 0 or val:\n",
    "            self.__count += 1\n",
    "\n",
    "stk = CountingStack()\n",
    "for i in range(100):\n",
    "    stk.push(i)\n",
    "    stk.pop()\n",
    "print(stk.get_counter())\n"
   ]
  },
  {
   "cell_type": "code",
   "execution_count": 57,
   "metadata": {},
   "outputs": [
    {
     "name": "stdout",
     "output_type": "stream",
     "text": [
      "1\n",
      "dog\n",
      "False\n",
      "Queue error\n"
     ]
    }
   ],
   "source": [
    "# FIFO\n",
    "\n",
    "class QueueError(Exception):  # Choose base class for the new exception.\n",
    "    pass\n",
    "\n",
    "class Queue:\n",
    "    def __init__(self):\n",
    "        self.__cola = []\n",
    "\n",
    "    def put(self, elem):\n",
    "        self.__cola.insert(len(self.__cola), elem)\n",
    "\n",
    "    def get(self):\n",
    "        val = self.__cola[0]\n",
    "        del self.__cola[0]\n",
    "        return val\n",
    "\n",
    "\n",
    "que = Queue()\n",
    "que.put(1)\n",
    "que.put(\"dog\")\n",
    "que.put(False)\n",
    "try:\n",
    "    for i in range(4):\n",
    "        print(QueueError(que.get()))\n",
    "except:\n",
    "    print(\"Queue error\")"
   ]
  },
  {
   "cell_type": "code",
   "execution_count": 77,
   "metadata": {},
   "outputs": [
    {
     "name": "stdout",
     "output_type": "stream",
     "text": [
      "1\n",
      "dog\n",
      "False\n",
      "Queue error\n"
     ]
    }
   ],
   "source": [
    "# FIFO\n",
    "\n",
    "class QueueError(Exception):\n",
    "    pass\n",
    "\n",
    "class Queue:\n",
    "    def __init__(self):\n",
    "        self.__cola = []\n",
    "\n",
    "    def put(self, elem):\n",
    "        self.__cola.insert(len(self.__cola), elem)\n",
    "\n",
    "    def get(self):\n",
    "        val = self.__cola[0]\n",
    "        del self.__cola[0]\n",
    "        return val\n",
    "\n",
    "\n",
    "que = Queue()\n",
    "que.put(1)\n",
    "que.put(\"dog\")\n",
    "que.put(False)\n",
    "\n",
    "try:\n",
    "    for i in range(4):\n",
    "        print(QueueError(que.get()))\n",
    "except:\n",
    "    print(\"Queue error\")"
   ]
  },
  {
   "cell_type": "code",
   "execution_count": 78,
   "metadata": {},
   "outputs": [
    {
     "name": "stdout",
     "output_type": "stream",
     "text": [
      "Queue empty\n",
      "Queue empty\n"
     ]
    },
    {
     "ename": "IndexError",
     "evalue": "list index out of range",
     "output_type": "error",
     "traceback": [
      "\u001b[1;31m---------------------------------------------------------------------------\u001b[0m",
      "\u001b[1;31mIndexError\u001b[0m                                Traceback (most recent call last)",
      "\u001b[1;32m<ipython-input-78-c42d0583fce3>\u001b[0m in \u001b[0;36m<module>\u001b[1;34m\u001b[0m\n\u001b[0;32m     35\u001b[0m \u001b[1;32mfor\u001b[0m \u001b[0mi\u001b[0m \u001b[1;32min\u001b[0m \u001b[0mrange\u001b[0m\u001b[1;33m(\u001b[0m\u001b[1;36m4\u001b[0m\u001b[1;33m)\u001b[0m\u001b[1;33m:\u001b[0m\u001b[1;33m\u001b[0m\u001b[1;33m\u001b[0m\u001b[0m\n\u001b[0;32m     36\u001b[0m     \u001b[1;32mif\u001b[0m \u001b[0mque\u001b[0m\u001b[1;33m.\u001b[0m\u001b[0mstate\u001b[0m\u001b[1;33m(\u001b[0m\u001b[1;33m)\u001b[0m\u001b[1;33m:\u001b[0m\u001b[1;33m\u001b[0m\u001b[1;33m\u001b[0m\u001b[0m\n\u001b[1;32m---> 37\u001b[1;33m         \u001b[0mprint\u001b[0m\u001b[1;33m(\u001b[0m\u001b[0mQueueError\u001b[0m\u001b[1;33m(\u001b[0m\u001b[0mque\u001b[0m\u001b[1;33m.\u001b[0m\u001b[0mget\u001b[0m\u001b[1;33m(\u001b[0m\u001b[1;33m)\u001b[0m\u001b[1;33m)\u001b[0m\u001b[1;33m)\u001b[0m\u001b[1;33m\u001b[0m\u001b[1;33m\u001b[0m\u001b[0m\n\u001b[0m\u001b[0;32m     38\u001b[0m     \u001b[1;32melse\u001b[0m\u001b[1;33m:\u001b[0m\u001b[1;33m\u001b[0m\u001b[1;33m\u001b[0m\u001b[0m\n\u001b[0;32m     39\u001b[0m         \u001b[0mprint\u001b[0m\u001b[1;33m(\u001b[0m\u001b[1;34m\"Queue empty\"\u001b[0m\u001b[1;33m)\u001b[0m\u001b[1;33m\u001b[0m\u001b[1;33m\u001b[0m\u001b[0m\n",
      "\u001b[1;32m<ipython-input-78-c42d0583fce3>\u001b[0m in \u001b[0;36mget\u001b[1;34m(self)\u001b[0m\n\u001b[0;32m     14\u001b[0m \u001b[1;33m\u001b[0m\u001b[0m\n\u001b[0;32m     15\u001b[0m     \u001b[1;32mdef\u001b[0m \u001b[0mget\u001b[0m\u001b[1;33m(\u001b[0m\u001b[0mself\u001b[0m\u001b[1;33m)\u001b[0m\u001b[1;33m:\u001b[0m\u001b[1;33m\u001b[0m\u001b[1;33m\u001b[0m\u001b[0m\n\u001b[1;32m---> 16\u001b[1;33m         \u001b[0mval\u001b[0m \u001b[1;33m=\u001b[0m \u001b[0mself\u001b[0m\u001b[1;33m.\u001b[0m\u001b[0m__cola\u001b[0m\u001b[1;33m[\u001b[0m\u001b[1;36m0\u001b[0m\u001b[1;33m]\u001b[0m\u001b[1;33m\u001b[0m\u001b[1;33m\u001b[0m\u001b[0m\n\u001b[0m\u001b[0;32m     17\u001b[0m         \u001b[1;32mdel\u001b[0m \u001b[0mself\u001b[0m\u001b[1;33m.\u001b[0m\u001b[0m__cola\u001b[0m\u001b[1;33m[\u001b[0m\u001b[1;36m0\u001b[0m\u001b[1;33m]\u001b[0m\u001b[1;33m\u001b[0m\u001b[1;33m\u001b[0m\u001b[0m\n\u001b[0;32m     18\u001b[0m         \u001b[1;32mreturn\u001b[0m \u001b[0mval\u001b[0m\u001b[1;33m\u001b[0m\u001b[1;33m\u001b[0m\u001b[0m\n",
      "\u001b[1;31mIndexError\u001b[0m: list index out of range"
     ]
    }
   ],
   "source": [
    "# FIFO2\n",
    "# Your task is to slightly extend the Queue class' capabilities. We want it to have a parameterless method that returns True if the queue is empty and False otherwise\n",
    "\n",
    "class QueueError(Exception):  # Choose base class for the new exception.\n",
    "    pass\n",
    "        \n",
    "\n",
    "class Queue:\n",
    "    def __init__(self):\n",
    "        self.__cola = []\n",
    "\n",
    "    def put(self, elem):\n",
    "        self.__cola.insert(len(self.__cola), elem)\n",
    "\n",
    "    def get(self):\n",
    "        val = self.__cola[0]\n",
    "        del self.__cola[0]\n",
    "        return val\n",
    "\n",
    "\n",
    "class SuperQueue(Queue):\n",
    "    def __init__(self):\n",
    "        Queue.__init__(self)\n",
    "    \n",
    "    def state(self):\n",
    "        if not Queue.get(self):\n",
    "            return True\n",
    "        else:\n",
    "            False\n",
    "\n",
    "que = SuperQueue()\n",
    "que.put(1)\n",
    "que.put(\"dog\")\n",
    "que.put(False)\n",
    "for i in range(4):\n",
    "    if que.state():\n",
    "        print(QueueError(que.get()))\n",
    "    else:\n",
    "        print(\"Queue empty\")"
   ]
  },
  {
   "cell_type": "code",
   "execution_count": 51,
   "metadata": {},
   "outputs": [
    {
     "name": "stdout",
     "output_type": "stream",
     "text": [
      "23:59:59\n",
      "00:00:00\n",
      "23:59:59\n"
     ]
    }
   ],
   "source": [
    "# Your class will be called Timer. Its constructor accepts three arguments representing hours (a value from range [0..23] - we will be using the military time), minutes (from range [0..59]) and seconds (from range [0..59]).\n",
    "class Timer:\n",
    "    def __init__(self, h, m, s):\n",
    "\n",
    "        self.h = h\n",
    "        self.m = m\n",
    "        self.s = s\n",
    "\n",
    "    def __str__(self):\n",
    "\n",
    "        hora = []\n",
    "        for i in [self.h, self.m, self.s]:\n",
    "            i = str(i)\n",
    "            if len(i) == 1:\n",
    "                i = '0' + i\n",
    "            hora.append(i)\n",
    "        hora = hora[0] + ':' + hora[1] + ':' + hora[2]\n",
    "        return hora\n",
    "\n",
    "    def next_second(self):\n",
    "\n",
    "        total_s = self.h * 60 ** 2 + self.m * 60 + self.s\n",
    "        total_s += 1\n",
    "        self.h = (total_s // 60 ** 2) % 24\n",
    "        self.m = (total_s % 60 ** 2) // 60\n",
    "        self.s = (total_s % 60 ** 2) % 60\n",
    "\n",
    "\n",
    "    def prev_second(self):\n",
    "\n",
    "        total_s = self.h * 60 ** 2 + self.m * 60 + self.s\n",
    "        total_s -= 1\n",
    "        self.h = (total_s // 60 ** 2) % 24\n",
    "        self.m = (total_s % 60 ** 2) // 60\n",
    "        self.s = (total_s % 60 ** 2) % 60\n",
    "\n",
    "\n",
    "\n",
    "timer = Timer(23, 59, 59)\n",
    "print(timer)\n",
    "timer.next_second()\n",
    "print(timer)\n",
    "timer.prev_second()\n",
    "print(timer)"
   ]
  },
  {
   "cell_type": "code",
   "execution_count": 64,
   "metadata": {},
   "outputs": [
    {
     "name": "stdout",
     "output_type": "stream",
     "text": [
      "Tue\n",
      "Thu\n",
      "Tue\n",
      "Sorry, I can't serve your request if you don't introduce a day in format Mon Tue Wed Thu Fri Sat Sun\n"
     ]
    }
   ],
   "source": [
    "# Your task is to implement a class called Weeker. Yes, your eyes don't deceive you - this name comes from the fact that objects of that class will be able to store and to manipulate days of a week.\n",
    "\n",
    "class WeekDayError(Exception):\n",
    "    pass\n",
    "\n",
    "\n",
    "class Weeker:\n",
    "\n",
    "    def __init__(self, day):\n",
    "        \n",
    "        if day not in ['Mon', 'Tue', 'Wed', 'Thu', 'Fri', 'Sat', 'Sun']:\n",
    "            raise WeekDayError\n",
    "        \n",
    "        self._day = day\n",
    "        self._week_d = {'Mon': 1, 'Tue': 2, 'Wed': 3, 'Thu': 4, 'Fri': 5, 'Sat': 6, 'Sun': 7}\n",
    "        self._week_n = {1: 'Mon', 2: 'Tue', 3: 'Wed', 4: 'Thu', 5: 'Fri', 6: 'Sat', 7: 'Sun'}\n",
    "        self.n = self._week_d[self._day]\n",
    "\n",
    "    def __str__(self):\n",
    "        \n",
    "        return self._week_n[self.n]\n",
    "\n",
    "    def add_days(self, n):\n",
    "        self.n = (self._week_d[self._day] + n) % 7\n",
    "        self._day = self._week_n[self.n]\n",
    "\n",
    "\n",
    "    def subtract_days(self, n):\n",
    "        self.n = (self._week_d[self._day] - n) % 7\n",
    "        self._day = self._week_n[self.n]\n",
    "\n",
    "try:\n",
    "    weekday = Weeker('Tue')\n",
    "    print(weekday)\n",
    "    weekday.add_days(2)\n",
    "    print(weekday)\n",
    "    weekday.subtract_days(2)\n",
    "    print(weekday)\n",
    "    weekday = Weeker('Monday')\n",
    "except WeekDayError:\n",
    "    print(\"Sorry, I can't serve your request if you don't introduce a day in format Mon Tue Wed Thu Fri Sat Sun\")\n"
   ]
  },
  {
   "cell_type": "code",
   "execution_count": 91,
   "metadata": {},
   "outputs": [
    {
     "name": "stdout",
     "output_type": "stream",
     "text": [
      "1.4142135623730951\n",
      "2.449489742783178\n"
     ]
    }
   ],
   "source": [
    "# Cartesian coordinate system -  Distance\n",
    "\n",
    "import math\n",
    "\n",
    "\n",
    "class Point:\n",
    "    def __init__(self, x=0.0, y=0.0):\n",
    "        self.__x = x\n",
    "        self.__y = x\n",
    "\n",
    "    def getx(self):\n",
    "        return self.__x\n",
    "\n",
    "    def gety(self):\n",
    "        return self.__y\n",
    "\n",
    "    def distance_from_xy(self, x, y):\n",
    "        return math.hypot(self.__x, self.__y, x, y)\n",
    "\n",
    "    def distance_from_point(self, point):\n",
    "        return math.hypot(self.__x, self.__y, point.getx(), point.gety())\n",
    "\n",
    "point1 = Point(0, 0)\n",
    "point2 = Point(1, 1)\n",
    "print(point1.distance_from_point(point2))\n",
    "print(point2.distance_from_xy(2, 0))"
   ]
  },
  {
   "cell_type": "code",
   "execution_count": 103,
   "metadata": {},
   "outputs": [
    {
     "name": "stdout",
     "output_type": "stream",
     "text": [
      "3.414213562373095\n"
     ]
    }
   ],
   "source": [
    "# Triangle definition\n",
    "\n",
    "import math\n",
    "\n",
    "\n",
    "class Point:\n",
    "    \n",
    "    def __init__(self, x=0.0, y=0.0):\n",
    "        self.__x = x\n",
    "        self.__y = y\n",
    "    \n",
    "    def getx(self):\n",
    "        return self.__x\n",
    "\n",
    "    def gety(self):\n",
    "        return self.__y\n",
    "\n",
    "class Triangle:\n",
    "    \n",
    "    def __init__(self, vertice1, vertice2, vertice3):\n",
    "        \n",
    "        self.p1 = vertice1\n",
    "        self.p2 = vertice2\n",
    "        self.p3 = vertice3\n",
    "\n",
    "    def perimeter(self):\n",
    "        \n",
    "        l1 = math.hypot(self.p1.getx(), self.p1.gety(), self.p2.getx(), self.p2.gety())\n",
    "        l2 = math.hypot(self.p2.getx(), self.p2.gety(), self.p3.getx(), self.p3.gety())\n",
    "        l3 = math.hypot(self.p3.getx(), self.p3.gety(), self.p1.getx(), self.p1.gety())\n",
    "        \n",
    "        return l1 + l2 + l3\n",
    "\n",
    "triangle = Triangle(Point(0, 0), Point(1, 0), Point(0, 1))\n",
    "print(triangle.perimeter())"
   ]
  }
 ],
 "metadata": {
  "kernelspec": {
   "display_name": "Python 3",
   "language": "python",
   "name": "python3"
  },
  "language_info": {
   "codemirror_mode": {
    "name": "ipython",
    "version": 3
   },
   "file_extension": ".py",
   "mimetype": "text/x-python",
   "name": "python",
   "nbconvert_exporter": "python",
   "pygments_lexer": "ipython3",
   "version": "3.8.5"
  }
 },
 "nbformat": 4,
 "nbformat_minor": 4
}
